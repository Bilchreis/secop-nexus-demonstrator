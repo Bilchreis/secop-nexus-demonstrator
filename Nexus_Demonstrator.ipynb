{
 "cells": [
  {
   "cell_type": "markdown",
   "metadata": {},
   "source": [
    "# Gas Dosing Demo\n",
    "\n",
    "I created a makefile to make interacting with the Demo easier: \n",
    "\n",
    "Start Docker containers with the SEC Nodes running on port 10800 (gas_dosing) and 10801 (reactorcell):\n",
    "\n",
    " ``` make sim```\n",
    "\n",
    "Start Containers and additionally start frappy gui:\n",
    "\n",
    "```make frappy``` "
   ]
  },
  {
   "cell_type": "code",
   "execution_count": 1,
   "metadata": {},
   "outputs": [
    {
     "name": "stdout",
     "output_type": "stream",
     "text": [
      "gas_dosing ready\n",
      "reactor_cell ready\n",
      "no code generated yet, building from scratch\n"
     ]
    }
   ],
   "source": [
    "from bluesky import RunEngine\n",
    "import bluesky.plan_stubs as bps\n",
    "from bluesky.plan_stubs import sleep, rd\n",
    "from bluesky.plans import scan, count\n",
    "\n",
    "import databroker\n",
    "\n",
    "from bluesky.preprocessors import run_decorator, SupplementalData\n",
    "from bluesky import preprocessors as bpp\n",
    "from bluesky.callbacks.best_effort import BestEffortCallback\n",
    "from pprint import pprint\n",
    "from secop_ophyd.SECoPDevices import SECoPNodeDevice\n",
    "from bluesky.utils import ProgressBarManager\n",
    "\n",
    "from tiled.client import from_uri\n",
    "\n",
    "\n",
    "import time\n",
    "from ophyd.status import Status\n",
    "\n",
    "\n",
    "from bluesky.log import config_bluesky_logging\n",
    "\n",
    "config_bluesky_logging(level='WARNING')\n",
    "# Create a run engine and a temporary file backed database. Send all the documents from the RE into that database\n",
    "RE = RunEngine({},call_returns_result=True)\n",
    "bec = BestEffortCallback()\n",
    "RE.subscribe(bec)\n",
    "RE.waiting_hook = ProgressBarManager()\n",
    "RE.ignore_callback_exceptions = False\n",
    "\n",
    "\n",
    "\n",
    "#Example of adding metadata to RE environment\n",
    "investigation_id = \"Nexus Demonstrator\"\n",
    "\n",
    "RE.md[\"investigation_id\"] = investigation_id\n",
    "\n",
    "\n",
    "client = from_uri(\"http://localhost:8000\",api_key=\"secret\")\n",
    "\n",
    "def post_document(name,doc):\n",
    "    client.post_document(name, doc)\n",
    "    \n",
    "RE.subscribe(post_document)\n",
    "\n",
    "# Connect to Gas Dosing SEC Node and generate ophyd device tree\n",
    "gas_dosing =  SECoPNodeDevice.create('localhost','10800',RE.loop)\n",
    "\n",
    "# Connect to Reactor Cell SEC Node and generate ophyd device tree\n",
    "reactor_cell =  SECoPNodeDevice.create('localhost','10801',RE.loop)\n",
    "\n",
    "gas_dosing.class_from_instance()\n",
    "reactor_cell.class_from_instance()\n",
    "\n",
    "\n",
    "from genNodeClass import *\n",
    "\n",
    "gas_dosing:Gas_dosing = gas_dosing\n",
    "reactor_cell:Reactor_cell = reactor_cell\n",
    "\n"
   ]
  },
  {
   "cell_type": "markdown",
   "metadata": {},
   "source": [
    "### Using the Devices\n",
    "From here on out the SECoP-Ophyd devices are fully usable and behave like any other ophyd-async device. They can be incorporated into bluesky plans alongside other devices, that might have a different underlying field layer such as EPICS or TANGO.   "
   ]
  },
  {
   "cell_type": "code",
   "execution_count": null,
   "metadata": {},
   "outputs": [],
   "source": [
    "# Example of a scan plan:\n",
    "\n",
    "\n",
    "def test_plan():\n",
    "    yield from bps.abs_set(gas_dosing.backpressure_contr1,1000,wait=False,group='start')\n",
    "    yield from bps.abs_set(reactor_cell.temperature_reg,300,wait=False,group='start')\n",
    "    yield from bps.abs_set(gas_dosing.massflow_contr1,0,wait=False,group='start')\n",
    "    yield from bps.abs_set(gas_dosing.massflow_contr2,0,wait=False,group='start')\n",
    "    yield from bps.abs_set(gas_dosing.massflow_contr3,0,wait=False,group='start')\n",
    "\n",
    "    yield from bps.wait(group='start')\n",
    "    \n",
    "\n",
    "\n",
    "\n",
    "    yield from bps.abs_set(gas_dosing.backpressure_contr1,900,wait=False)\n",
    "    yield from bps.abs_set(gas_dosing.massflow_contr1,20,wait=False)\n",
    "    yield from bps.abs_set(gas_dosing.massflow_contr2,30,wait=False)\n",
    "    yield from bps.abs_set(gas_dosing.massflow_contr3,50,wait=False)\n",
    "    yield from scan([\n",
    "            reactor_cell.temperature_sam,\n",
    "            gas_dosing.backpressure_contr1,\n",
    "            gas_dosing.massflow_contr1,\n",
    "            gas_dosing.massflow_contr2,\n",
    "            gas_dosing.massflow_contr3\n",
    "        ],\n",
    "        reactor_cell.temperature_reg,300,310,10)\n",
    "\n",
    "\n",
    "RE(test_plan())"
   ]
  },
  {
   "cell_type": "code",
   "execution_count": 4,
   "metadata": {},
   "outputs": [],
   "source": [
    "import NexusCreator\n",
    "\n",
    "variableDictionary = {\n",
    "  'a': 1,\n",
    "  'b': 2,\n",
    "  'c': 3,\n",
    "  'variable': [1, 2, 3],\n",
    "  'image': [[1, 2, 3], [4, 5,6]]\n",
    "}\n",
    "\n",
    "flags = {\n",
    "  'nxstruct': './nexuscreator/examples/test2.nxstruct',\n",
    "  'input': variableDictionary,\n",
    "  'dictionary': False\n",
    "}\n",
    "\n",
    "NexusCreator.executeConversion(flags)\n"
   ]
  },
  {
   "cell_type": "code",
   "execution_count": 4,
   "metadata": {},
   "outputs": [
    {
     "name": "stdout",
     "output_type": "stream",
     "text": [
      "{'aperture_1.world_position.x': 0, 'aperture_1.world_position.y': 9, 'aperture_1.world_position.z': 0, 'aperture_1.top': 100.0, 'aperture_1.bottom': 110.0, 'aperture_1.left': 120.0, 'aperture_1.right': 130.0, 'mirror_1.world_position': [0, 10, 0], 'mirror_1.coating': 'Pt', 'mirror_1.incident_angle': 1.5, 'mirror_1.tx': 10.0, 'mirror_1.ty': 30.0, 'mirror_1.rx': 0.0, 'mirror_1.ry': 40.0, 'mirror_1.rz': 20.0, 'motors_pgm.world_position': [0, 20, 0], 'motors_pgm.en': 400.0, 'motors_pgm.cff': 2.25, 'mirror_3.world_position': [0, 25, 0], 'mirror_3.coating': 'Pt', 'mirror_3.incident_angle': 1.5, 'mirror_3.tx': 15.0, 'mirror_3.ty': 35.0, 'mirror_3.tz': 35.0, 'mirror_3.rx': 5.0, 'mirror_3.ry': 45.0, 'mirror_3.rz': 25.0, 'exit_slit.world_position': [0, 50, 0], 'mirror_4.world_position': [0, 55, 0], 'mirror_4.tx': 14.0, 'mirror_4.ty': 34.0, 'mirror_4.tz': 34.0, 'mirror_4.rx': 4.0, 'mirror_4.ry': 44.0, 'mirror_4.rz': 24.0, 'detector_kth00.world_position': [0, 60, 0], 'detector_kth00.signal_source': 'boh', 'time': [1709808799.2878962, 1709808799.34237, 1709808799.393523, 1709808799.4469929, 1709808799.501659, 1709808799.554987, 1709808799.608341, 1709808799.6629639, 1709808799.719815, 1709808799.7813382, 1709808799.835377, 1709808799.891872, 1709808799.9456692, 1709808800.003059, 1709808800.062285, 1709808800.119841, 1709808800.173602, 1709808800.2321038, 1709808800.285136, 1709808800.338242, 1709808800.3934112, 1709808800.44793, 1709808800.498019, 1709808800.5542688, 1709808800.6055481, 1709808800.659394, 1709808800.731693, 1709808800.7876961, 1709808800.8419762, 1709808800.896558, 1709808800.9510558, 1709808801.01029, 1709808801.067358, 1709808801.121206, 1709808801.1771169, 1709808801.2337291, 1709808801.286484, 1709808801.352007, 1709808801.406333, 1709808801.4720168, 1709808801.525522, 1709808801.577396, 1709808801.63378, 1709808801.708483, 1709808801.7648928, 1709808801.826994, 1709808801.8826299, 1709808801.940058, 1709808801.9917219, 1709808802.0486348, 1709808802.103331, 1709808802.161001, 1709808802.242207, 1709808802.2938461, 1709808802.350744, 1709808802.413074, 1709808802.4707189, 1709808802.5262988, 1709808802.5854158, 1709808802.645319, 1709808802.699578, 1709808802.757715, 1709808802.811719, 1709808802.868324, 1709808802.924224, 1709808802.9778671, 1709808803.0319018, 1709808803.085954, 1709808803.139193, 1709808803.20017, 1709808803.264704, 1709808803.322122, 1709808803.3802931, 1709808803.4378932, 1709808803.649596, 1709808803.702796, 1709808803.7593532, 1709808803.8091898, 1709808803.8701131, 1709808804.088728, 1709808804.1473439, 1709808804.2022169, 1709808804.255104, 1709808804.308286, 1709808804.363115, 1709808804.4327838, 1709808804.48828, 1709808804.541773, 1709808804.592787, 1709808804.664858, 1709808804.715947, 1709808804.788563, 1709808804.842165, 1709808804.9104252, 1709808804.9651809, 1709808805.0288582, 1709808805.086582, 1709808805.14215, 1709808805.200212, 1709808805.252407], 'detector_kth00': [1.0, 1.0, 1.0, 1.0, 1.0, 1.0, 1.0, 1.0, 1.0, 1.0, 1.0, 1.0, 1.0, 1.0, 1.0, 1.0, 1.0, 1.0, 1.0, 1.0, 1.0, 1.0, 1.0, 1.0, 1.0, 1.0, 1.0, 1.0, 1.0, 1.0, 1.0, 1.0, 1.0, 1.0, 1.0, 1.0, 1.0, 1.0, 1.0, 1.0, 1.0, 1.0, 1.0, 1.0, 1.0, 1.0, 1.0, 1.0, 1.0, 1.0, 1.0, 1.0, 1.0, 1.0, 1.0, 1.0, 1.0, 1.0, 1.0, 1.0, 1.0, 1.0, 1.0, 1.0, 1.0, 1.0, 1.0, 1.0, 1.0, 1.0, 1.0, 1.0, 1.0, 1.0, 1.0, 1.0, 1.0, 1.0, 1.0, 1.0, 1.0, 1.0, 1.0, 1.0, 1.0, 1.0, 1.0, 1.0, 1.0, 1.0, 1.0, 1.0, 1.0, 1.0, 1.0, 1.0, 1.0, 1.0, 1.0, 1.0], 'motors_pgm_en': [400.0, 400.2020202020202, 400.4040404040404, 400.6060606060606, 400.80808080808083, 401.010101010101, 401.2121212121212, 401.4141414141414, 401.6161616161616, 401.8181818181818, 402.020202020202, 402.22222222222223, 402.42424242424244, 402.62626262626264, 402.82828282828285, 403.030303030303, 403.2323232323232, 403.4343434343434, 403.6363636363636, 403.83838383838383, 404.04040404040404, 404.24242424242425, 404.44444444444446, 404.64646464646466, 404.8484848484849, 405.050505050505, 405.25252525252523, 405.45454545454544, 405.65656565656565, 405.85858585858585, 406.06060606060606, 406.26262626262627, 406.4646464646465, 406.6666666666667, 406.8686868686869, 407.07070707070704, 407.27272727272725, 407.47474747474746, 407.67676767676767, 407.8787878787879, 408.0808080808081, 408.2828282828283, 408.4848484848485, 408.6868686868687, 408.8888888888889, 409.09090909090907, 409.2929292929293, 409.4949494949495, 409.6969696969697, 409.8989898989899, 410.1010101010101, 410.3030303030303, 410.5050505050505, 410.7070707070707, 410.90909090909093, 411.1111111111111, 411.3131313131313, 411.5151515151515, 411.7171717171717, 411.9191919191919, 412.1212121212121, 412.32323232323233, 412.52525252525254, 412.72727272727275, 412.92929292929296, 413.1313131313131, 413.3333333333333, 413.5353535353535, 413.73737373737373, 413.93939393939394, 414.14141414141415, 414.34343434343435, 414.54545454545456, 414.74747474747477, 414.949494949495, 415.1515151515151, 415.35353535353534, 415.55555555555554, 415.75757575757575, 415.95959595959596, 416.16161616161617, 416.3636363636364, 416.5656565656566, 416.7676767676768, 416.969696969697, 417.17171717171715, 417.37373737373736, 417.57575757575756, 417.77777777777777, 417.979797979798, 418.1818181818182, 418.3838383838384, 418.5858585858586, 418.7878787878788, 418.98989898989896, 419.19191919191917, 419.3939393939394, 419.5959595959596, 419.7979797979798, 420.0], 'motors_pgm_en_setpoint': [400, 400, 400, 400, 400, 401, 401, 401, 401, 401, 402, 402, 402, 402, 402, 403, 403, 403, 403, 403, 404, 404, 404, 404, 404, 405, 405, 405, 405, 405, 406, 406, 406, 406, 406, 407, 407, 407, 407, 407, 408, 408, 408, 408, 408, 409, 409, 409, 409, 409, 410, 410, 410, 410, 410, 411, 411, 411, 411, 411, 412, 412, 412, 412, 412, 413, 413, 413, 413, 413, 414, 414, 414, 414, 414, 415, 415, 415, 415, 415, 416, 416, 416, 416, 416, 417, 417, 417, 417, 417, 418, 418, 418, 418, 418, 419, 419, 419, 419, 420]}\n"
     ]
    }
   ],
   "source": [
    "import numpy as np\n",
    "import NexusCreator\n",
    "def flatten_structure(data, parent_key='', sep='.'):\n",
    "    flattened = {}\n",
    "    for key, value in data.items():\n",
    "        new_key = f\"{parent_key}{sep}{key}\" if parent_key else key\n",
    "\n",
    "        if value != None:\n",
    "            if isinstance(value, dict):\n",
    "                flattened.update(flatten_structure(value, new_key, sep=sep))\n",
    "            else:\n",
    "                flattened[new_key] = value\n",
    "\n",
    "    return flattened\n",
    "\n",
    "\n",
    "\n",
    "\n",
    "# Connecting to Tiled\n",
    "db = from_uri(\"http://136.244.80.119:8000\",api_key=\"secret\")\n",
    "run = db['716034b0-ba80-4975-aa97-7e0dbe8626af']\n",
    "#run.metadata['start']\n",
    "#db[-1].descriptors\n",
    "\n",
    "# Getting data + metadata from Tiled\n",
    "# Getting metadata (settings of instruments before a scan) from Tiled\n",
    "variables = flatten_structure(run.metadata['start']['nexus_md'])\n",
    "# Getting data (measurement from scan) from Tiled\n",
    "for key in run.primary.data.keys():\n",
    "    variables[key] = np.asarray(run.primary.data.get(key)).tolist()\n",
    "\n",
    "# Display the result\n",
    "print(variables)\n",
    "\n",
    "# Preparing NexusCreator\n",
    "flags = {\n",
    "  'nxstruct': './test2.nxstruct',\n",
    "  'input': variables,\n",
    "  'dictionary': False\n",
    "}\n"
   ]
  },
  {
   "cell_type": "code",
   "execution_count": 9,
   "metadata": {},
   "outputs": [
    {
     "name": "stdout",
     "output_type": "stream",
     "text": [
      "\n",
      "entry:NXentry\n",
      "\t@NX_class = \"NXentry\"\n",
      "\tsample:NXsample\n",
      "\t\t@NX_class = \"NXsample\"\n",
      "\t\ttype:sample environment\n",
      "\t\t\t@NX_class = \"NX_CHAR\"\n",
      "\n"
     ]
    }
   ],
   "source": [
    "async def generate_nexus_struct(nodes:list[SECoPNodeDevice]):\n",
    "    text = \"\"\"\n",
    "entry:NXentry\n",
    "\\t@NX_class = \"NXentry\"\n",
    "\\tsample:NXsample\n",
    "\\t\\t@NX_class = \"NXsample\"\n",
    "\\t\\ttype:sample environment\n",
    "\\t\\t\\t@NX_class = \"NX_CHAR\"\n",
    "\"\"\"\n",
    "\n",
    "    for node in nodes:\n",
    "        equpment_i = \n",
    "\n",
    "\n",
    "\n",
    "    return text\n",
    "\n",
    "generated_text = generate_nexus_struct(nodes= [gas_dosing])\n",
    "\n",
    "print(generated_text)"
   ]
  }
 ],
 "metadata": {
  "kernelspec": {
   "display_name": ".venv",
   "language": "python",
   "name": "python3"
  },
  "language_info": {
   "codemirror_mode": {
    "name": "ipython",
    "version": 3
   },
   "file_extension": ".py",
   "mimetype": "text/x-python",
   "name": "python",
   "nbconvert_exporter": "python",
   "pygments_lexer": "ipython3",
   "version": "3.10.12"
  }
 },
 "nbformat": 4,
 "nbformat_minor": 2
}
